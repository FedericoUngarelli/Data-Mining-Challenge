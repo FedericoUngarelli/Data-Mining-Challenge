{
 "cells": [
  {
   "cell_type": "code",
   "execution_count": 9,
   "metadata": {},
   "outputs": [
    {
     "name": "stderr",
     "output_type": "stream",
     "text": [
      "/Users/federicoungarelli/opt/anaconda3/lib/python3.8/site-packages/IPython/core/interactiveshell.py:3146: DtypeWarning: Columns (30) have mixed types.Specify dtype option on import or set low_memory=False.\n",
      "  has_raised = await self.run_ast_nodes(code_ast.body, cell_name,\n"
     ]
    }
   ],
   "source": [
    "import pandas as pd\n",
    "\n",
    "df = pd.read_csv('train.csv')"
   ]
  },
  {
   "cell_type": "code",
   "execution_count": 10,
   "metadata": {},
   "outputs": [],
   "source": [
    "import pandas as pd\n",
    "\n",
    "test_df = pd.read_csv('test.csv')"
   ]
  },
  {
   "cell_type": "code",
   "execution_count": 2,
   "metadata": {},
   "outputs": [
    {
     "data": {
      "text/html": [
       "<div>\n",
       "<style scoped>\n",
       "    .dataframe tbody tr th:only-of-type {\n",
       "        vertical-align: middle;\n",
       "    }\n",
       "\n",
       "    .dataframe tbody tr th {\n",
       "        vertical-align: top;\n",
       "    }\n",
       "\n",
       "    .dataframe thead th {\n",
       "        text-align: right;\n",
       "    }\n",
       "</style>\n",
       "<table border=\"1\" class=\"dataframe\">\n",
       "  <thead>\n",
       "    <tr style=\"text-align: right;\">\n",
       "      <th></th>\n",
       "      <th>id</th>\n",
       "      <th>name</th>\n",
       "      <th>summary</th>\n",
       "      <th>space</th>\n",
       "      <th>description</th>\n",
       "      <th>experiences_offered</th>\n",
       "      <th>neighborhood_overview</th>\n",
       "      <th>notes</th>\n",
       "      <th>transit</th>\n",
       "      <th>access</th>\n",
       "      <th>...</th>\n",
       "      <th>review_scores_communication</th>\n",
       "      <th>review_scores_location</th>\n",
       "      <th>review_scores_value</th>\n",
       "      <th>instant_bookable</th>\n",
       "      <th>is_business_travel_ready</th>\n",
       "      <th>cancellation_policy</th>\n",
       "      <th>require_guest_profile_picture</th>\n",
       "      <th>require_guest_phone_verification</th>\n",
       "      <th>calculated_host_listings_count</th>\n",
       "      <th>reviews_per_month</th>\n",
       "    </tr>\n",
       "  </thead>\n",
       "  <tbody>\n",
       "    <tr>\n",
       "      <th>0</th>\n",
       "      <td>22267382</td>\n",
       "      <td>Modern and Cozy Large Studio in Brooklyn</td>\n",
       "      <td>Modern large studio with new amenities and app...</td>\n",
       "      <td>Our place is a little quiet sanctuary in the h...</td>\n",
       "      <td>Modern large studio with new amenities and app...</td>\n",
       "      <td>none</td>\n",
       "      <td>BAM, Barclays, Brooklyn City Point, Fort Green...</td>\n",
       "      <td>NaN</td>\n",
       "      <td>Subway: 2,3,4,5,A,C,B,Q,G</td>\n",
       "      <td>Washer/Dryer Dishwasher Internet Gym Roof Top ...</td>\n",
       "      <td>...</td>\n",
       "      <td>10.0</td>\n",
       "      <td>10.0</td>\n",
       "      <td>10.0</td>\n",
       "      <td>t</td>\n",
       "      <td>f</td>\n",
       "      <td>flexible</td>\n",
       "      <td>f</td>\n",
       "      <td>f</td>\n",
       "      <td>1</td>\n",
       "      <td>0.59</td>\n",
       "    </tr>\n",
       "    <tr>\n",
       "      <th>1</th>\n",
       "      <td>2473861</td>\n",
       "      <td>Royal Harlem TRIPLEX Home 5 Beds</td>\n",
       "      <td>Harlem is back and so gorgeous! Visit and expl...</td>\n",
       "      <td>Harlem is back and so gorgeous! Visit and expl...</td>\n",
       "      <td>Harlem is back and so gorgeous! Visit and expl...</td>\n",
       "      <td>none</td>\n",
       "      <td>HARLEM is a piece of real NY history overflowi...</td>\n",
       "      <td>HARLEM RESTAURANTS Red Rooster Harlem -- excel...</td>\n",
       "      <td>PUBLIC TRANSPORTATION: Conveniently near all p...</td>\n",
       "      <td>The WHOLE ENTIRE HOUSE</td>\n",
       "      <td>...</td>\n",
       "      <td>9.0</td>\n",
       "      <td>9.0</td>\n",
       "      <td>9.0</td>\n",
       "      <td>t</td>\n",
       "      <td>f</td>\n",
       "      <td>moderate</td>\n",
       "      <td>f</td>\n",
       "      <td>f</td>\n",
       "      <td>3</td>\n",
       "      <td>2.47</td>\n",
       "    </tr>\n",
       "    <tr>\n",
       "      <th>2</th>\n",
       "      <td>25079703</td>\n",
       "      <td>Sunny East Village Studio</td>\n",
       "      <td>Clean, hip and well designed sun drenched East...</td>\n",
       "      <td>This is a rare East Village studio with it's h...</td>\n",
       "      <td>Clean, hip and well designed sun drenched East...</td>\n",
       "      <td>none</td>\n",
       "      <td>East Village is one of the last remaining neig...</td>\n",
       "      <td>NaN</td>\n",
       "      <td>NaN</td>\n",
       "      <td>You'll have access to the entire space - it's ...</td>\n",
       "      <td>...</td>\n",
       "      <td>10.0</td>\n",
       "      <td>10.0</td>\n",
       "      <td>10.0</td>\n",
       "      <td>f</td>\n",
       "      <td>f</td>\n",
       "      <td>moderate</td>\n",
       "      <td>f</td>\n",
       "      <td>f</td>\n",
       "      <td>1</td>\n",
       "      <td>0.89</td>\n",
       "    </tr>\n",
       "    <tr>\n",
       "      <th>3</th>\n",
       "      <td>9342478</td>\n",
       "      <td>Beautiful, airy, light-filled room</td>\n",
       "      <td>Private, spacious, comfortable room in 2-bed f...</td>\n",
       "      <td>Big closet, two big windows, tall ceiling and ...</td>\n",
       "      <td>Private, spacious, comfortable room in 2-bed f...</td>\n",
       "      <td>none</td>\n",
       "      <td>One block from Morgan L stop. Super cool area....</td>\n",
       "      <td>NaN</td>\n",
       "      <td>NaN</td>\n",
       "      <td>NaN</td>\n",
       "      <td>...</td>\n",
       "      <td>NaN</td>\n",
       "      <td>NaN</td>\n",
       "      <td>NaN</td>\n",
       "      <td>f</td>\n",
       "      <td>f</td>\n",
       "      <td>flexible</td>\n",
       "      <td>f</td>\n",
       "      <td>f</td>\n",
       "      <td>1</td>\n",
       "      <td>NaN</td>\n",
       "    </tr>\n",
       "    <tr>\n",
       "      <th>4</th>\n",
       "      <td>4866426</td>\n",
       "      <td>Private Room in Prime Brooklyn Spot</td>\n",
       "      <td>Comfy, quiet and big private room in a three b...</td>\n",
       "      <td>This big old apartment that we love and take c...</td>\n",
       "      <td>Comfy, quiet and big private room in a three b...</td>\n",
       "      <td>none</td>\n",
       "      <td>I absolutely love this neighborhood - right at...</td>\n",
       "      <td>Just a note about the space: The window in you...</td>\n",
       "      <td>Super convenient to almost all subway lines. A...</td>\n",
       "      <td>Your room has a very comfortable queen sized b...</td>\n",
       "      <td>...</td>\n",
       "      <td>10.0</td>\n",
       "      <td>10.0</td>\n",
       "      <td>10.0</td>\n",
       "      <td>f</td>\n",
       "      <td>f</td>\n",
       "      <td>flexible</td>\n",
       "      <td>f</td>\n",
       "      <td>f</td>\n",
       "      <td>1</td>\n",
       "      <td>3.14</td>\n",
       "    </tr>\n",
       "    <tr>\n",
       "      <th>...</th>\n",
       "      <td>...</td>\n",
       "      <td>...</td>\n",
       "      <td>...</td>\n",
       "      <td>...</td>\n",
       "      <td>...</td>\n",
       "      <td>...</td>\n",
       "      <td>...</td>\n",
       "      <td>...</td>\n",
       "      <td>...</td>\n",
       "      <td>...</td>\n",
       "      <td>...</td>\n",
       "      <td>...</td>\n",
       "      <td>...</td>\n",
       "      <td>...</td>\n",
       "      <td>...</td>\n",
       "      <td>...</td>\n",
       "      <td>...</td>\n",
       "      <td>...</td>\n",
       "      <td>...</td>\n",
       "      <td>...</td>\n",
       "      <td>...</td>\n",
       "    </tr>\n",
       "    <tr>\n",
       "      <th>33533</th>\n",
       "      <td>3958032</td>\n",
       "      <td>Private Room Amazing View in EV</td>\n",
       "      <td>Private room in cozy, sun-drenched &amp; plant fil...</td>\n",
       "      <td>NaN</td>\n",
       "      <td>Private room in cozy, sun-drenched &amp; plant fil...</td>\n",
       "      <td>none</td>\n",
       "      <td>NaN</td>\n",
       "      <td>NaN</td>\n",
       "      <td>NaN</td>\n",
       "      <td>NaN</td>\n",
       "      <td>...</td>\n",
       "      <td>9.0</td>\n",
       "      <td>9.0</td>\n",
       "      <td>8.0</td>\n",
       "      <td>f</td>\n",
       "      <td>f</td>\n",
       "      <td>strict_14_with_grace_period</td>\n",
       "      <td>f</td>\n",
       "      <td>f</td>\n",
       "      <td>1</td>\n",
       "      <td>0.44</td>\n",
       "    </tr>\n",
       "    <tr>\n",
       "      <th>33534</th>\n",
       "      <td>7987209</td>\n",
       "      <td>Floor 35th in the heart of New York</td>\n",
       "      <td>This is a beautiful four bedroom and three bat...</td>\n",
       "      <td>This is a Duplex Apartment (2 floors) Main Flo...</td>\n",
       "      <td>This is a beautiful four bedroom and three bat...</td>\n",
       "      <td>none</td>\n",
       "      <td>LOCATION LOCATION LOCATION. Walk to Time Squar...</td>\n",
       "      <td>NaN</td>\n",
       "      <td>Apartment is located at 70 W 45th Street (betw...</td>\n",
       "      <td>Access to the unit is through elevators.</td>\n",
       "      <td>...</td>\n",
       "      <td>10.0</td>\n",
       "      <td>10.0</td>\n",
       "      <td>9.0</td>\n",
       "      <td>f</td>\n",
       "      <td>f</td>\n",
       "      <td>strict_14_with_grace_period</td>\n",
       "      <td>f</td>\n",
       "      <td>f</td>\n",
       "      <td>1</td>\n",
       "      <td>2.28</td>\n",
       "    </tr>\n",
       "    <tr>\n",
       "      <th>33535</th>\n",
       "      <td>796128</td>\n",
       "      <td>Cozy room for rent in duplex house</td>\n",
       "      <td>NaN</td>\n",
       "      <td>Room for rent in duplex house located in Astor...</td>\n",
       "      <td>Room for rent in duplex house located in Astor...</td>\n",
       "      <td>none</td>\n",
       "      <td>NaN</td>\n",
       "      <td>NaN</td>\n",
       "      <td>NaN</td>\n",
       "      <td>NaN</td>\n",
       "      <td>...</td>\n",
       "      <td>NaN</td>\n",
       "      <td>NaN</td>\n",
       "      <td>NaN</td>\n",
       "      <td>f</td>\n",
       "      <td>f</td>\n",
       "      <td>flexible</td>\n",
       "      <td>f</td>\n",
       "      <td>f</td>\n",
       "      <td>1</td>\n",
       "      <td>NaN</td>\n",
       "    </tr>\n",
       "    <tr>\n",
       "      <th>33536</th>\n",
       "      <td>17281121</td>\n",
       "      <td>Beautiful 1 bedroom apart, Washington Heights</td>\n",
       "      <td>Very spacious bright beautiful apartment in Wa...</td>\n",
       "      <td>Very spacious living room, bright kitchen with...</td>\n",
       "      <td>Very spacious bright beautiful apartment in Wa...</td>\n",
       "      <td>none</td>\n",
       "      <td>Very close to Times Square but a quiet residen...</td>\n",
       "      <td>NaN</td>\n",
       "      <td>Very Close to subway lines A and 1 trains. Les...</td>\n",
       "      <td>Living room, bedroom, shared kitchen and bathr...</td>\n",
       "      <td>...</td>\n",
       "      <td>10.0</td>\n",
       "      <td>10.0</td>\n",
       "      <td>10.0</td>\n",
       "      <td>f</td>\n",
       "      <td>f</td>\n",
       "      <td>moderate</td>\n",
       "      <td>f</td>\n",
       "      <td>f</td>\n",
       "      <td>3</td>\n",
       "      <td>0.10</td>\n",
       "    </tr>\n",
       "    <tr>\n",
       "      <th>33537</th>\n",
       "      <td>17414910</td>\n",
       "      <td>LUXURY Central Park TownHouse 3Bed/2BA DuplexO...</td>\n",
       "      <td>One of a kind, Immense 3bed/2 bath duplex Loft...</td>\n",
       "      <td>Our home is simply a one of a kind experience ...</td>\n",
       "      <td>One of a kind, Immense 3bed/2 bath duplex Loft...</td>\n",
       "      <td>none</td>\n",
       "      <td>Great location steps to Central Park. The new ...</td>\n",
       "      <td>Our entire home is for you to enjoy. Everythin...</td>\n",
       "      <td>The new Q train line has just opened on 2nd av...</td>\n",
       "      <td>The entire home will be for you and your group...</td>\n",
       "      <td>...</td>\n",
       "      <td>10.0</td>\n",
       "      <td>10.0</td>\n",
       "      <td>9.0</td>\n",
       "      <td>t</td>\n",
       "      <td>f</td>\n",
       "      <td>strict_14_with_grace_period</td>\n",
       "      <td>f</td>\n",
       "      <td>f</td>\n",
       "      <td>1</td>\n",
       "      <td>2.76</td>\n",
       "    </tr>\n",
       "  </tbody>\n",
       "</table>\n",
       "<p>33538 rows × 65 columns</p>\n",
       "</div>"
      ],
      "text/plain": [
       "             id                                               name  \\\n",
       "0      22267382           Modern and Cozy Large Studio in Brooklyn   \n",
       "1       2473861                   Royal Harlem TRIPLEX Home 5 Beds   \n",
       "2      25079703                          Sunny East Village Studio   \n",
       "3       9342478                 Beautiful, airy, light-filled room   \n",
       "4       4866426                Private Room in Prime Brooklyn Spot   \n",
       "...         ...                                                ...   \n",
       "33533   3958032                    Private Room Amazing View in EV   \n",
       "33534   7987209                Floor 35th in the heart of New York   \n",
       "33535    796128                 Cozy room for rent in duplex house   \n",
       "33536  17281121      Beautiful 1 bedroom apart, Washington Heights   \n",
       "33537  17414910  LUXURY Central Park TownHouse 3Bed/2BA DuplexO...   \n",
       "\n",
       "                                                 summary  \\\n",
       "0      Modern large studio with new amenities and app...   \n",
       "1      Harlem is back and so gorgeous! Visit and expl...   \n",
       "2      Clean, hip and well designed sun drenched East...   \n",
       "3      Private, spacious, comfortable room in 2-bed f...   \n",
       "4      Comfy, quiet and big private room in a three b...   \n",
       "...                                                  ...   \n",
       "33533  Private room in cozy, sun-drenched & plant fil...   \n",
       "33534  This is a beautiful four bedroom and three bat...   \n",
       "33535                                                NaN   \n",
       "33536  Very spacious bright beautiful apartment in Wa...   \n",
       "33537  One of a kind, Immense 3bed/2 bath duplex Loft...   \n",
       "\n",
       "                                                   space  \\\n",
       "0      Our place is a little quiet sanctuary in the h...   \n",
       "1      Harlem is back and so gorgeous! Visit and expl...   \n",
       "2      This is a rare East Village studio with it's h...   \n",
       "3      Big closet, two big windows, tall ceiling and ...   \n",
       "4      This big old apartment that we love and take c...   \n",
       "...                                                  ...   \n",
       "33533                                                NaN   \n",
       "33534  This is a Duplex Apartment (2 floors) Main Flo...   \n",
       "33535  Room for rent in duplex house located in Astor...   \n",
       "33536  Very spacious living room, bright kitchen with...   \n",
       "33537  Our home is simply a one of a kind experience ...   \n",
       "\n",
       "                                             description experiences_offered  \\\n",
       "0      Modern large studio with new amenities and app...                none   \n",
       "1      Harlem is back and so gorgeous! Visit and expl...                none   \n",
       "2      Clean, hip and well designed sun drenched East...                none   \n",
       "3      Private, spacious, comfortable room in 2-bed f...                none   \n",
       "4      Comfy, quiet and big private room in a three b...                none   \n",
       "...                                                  ...                 ...   \n",
       "33533  Private room in cozy, sun-drenched & plant fil...                none   \n",
       "33534  This is a beautiful four bedroom and three bat...                none   \n",
       "33535  Room for rent in duplex house located in Astor...                none   \n",
       "33536  Very spacious bright beautiful apartment in Wa...                none   \n",
       "33537  One of a kind, Immense 3bed/2 bath duplex Loft...                none   \n",
       "\n",
       "                                   neighborhood_overview  \\\n",
       "0      BAM, Barclays, Brooklyn City Point, Fort Green...   \n",
       "1      HARLEM is a piece of real NY history overflowi...   \n",
       "2      East Village is one of the last remaining neig...   \n",
       "3      One block from Morgan L stop. Super cool area....   \n",
       "4      I absolutely love this neighborhood - right at...   \n",
       "...                                                  ...   \n",
       "33533                                                NaN   \n",
       "33534  LOCATION LOCATION LOCATION. Walk to Time Squar...   \n",
       "33535                                                NaN   \n",
       "33536  Very close to Times Square but a quiet residen...   \n",
       "33537  Great location steps to Central Park. The new ...   \n",
       "\n",
       "                                                   notes  \\\n",
       "0                                                    NaN   \n",
       "1      HARLEM RESTAURANTS Red Rooster Harlem -- excel...   \n",
       "2                                                    NaN   \n",
       "3                                                    NaN   \n",
       "4      Just a note about the space: The window in you...   \n",
       "...                                                  ...   \n",
       "33533                                                NaN   \n",
       "33534                                                NaN   \n",
       "33535                                                NaN   \n",
       "33536                                                NaN   \n",
       "33537  Our entire home is for you to enjoy. Everythin...   \n",
       "\n",
       "                                                 transit  \\\n",
       "0                              Subway: 2,3,4,5,A,C,B,Q,G   \n",
       "1      PUBLIC TRANSPORTATION: Conveniently near all p...   \n",
       "2                                                    NaN   \n",
       "3                                                    NaN   \n",
       "4      Super convenient to almost all subway lines. A...   \n",
       "...                                                  ...   \n",
       "33533                                                NaN   \n",
       "33534  Apartment is located at 70 W 45th Street (betw...   \n",
       "33535                                                NaN   \n",
       "33536  Very Close to subway lines A and 1 trains. Les...   \n",
       "33537  The new Q train line has just opened on 2nd av...   \n",
       "\n",
       "                                                  access  ...  \\\n",
       "0      Washer/Dryer Dishwasher Internet Gym Roof Top ...  ...   \n",
       "1                                 The WHOLE ENTIRE HOUSE  ...   \n",
       "2      You'll have access to the entire space - it's ...  ...   \n",
       "3                                                    NaN  ...   \n",
       "4      Your room has a very comfortable queen sized b...  ...   \n",
       "...                                                  ...  ...   \n",
       "33533                                                NaN  ...   \n",
       "33534           Access to the unit is through elevators.  ...   \n",
       "33535                                                NaN  ...   \n",
       "33536  Living room, bedroom, shared kitchen and bathr...  ...   \n",
       "33537  The entire home will be for you and your group...  ...   \n",
       "\n",
       "      review_scores_communication review_scores_location  review_scores_value  \\\n",
       "0                            10.0                   10.0                 10.0   \n",
       "1                             9.0                    9.0                  9.0   \n",
       "2                            10.0                   10.0                 10.0   \n",
       "3                             NaN                    NaN                  NaN   \n",
       "4                            10.0                   10.0                 10.0   \n",
       "...                           ...                    ...                  ...   \n",
       "33533                         9.0                    9.0                  8.0   \n",
       "33534                        10.0                   10.0                  9.0   \n",
       "33535                         NaN                    NaN                  NaN   \n",
       "33536                        10.0                   10.0                 10.0   \n",
       "33537                        10.0                   10.0                  9.0   \n",
       "\n",
       "      instant_bookable is_business_travel_ready          cancellation_policy  \\\n",
       "0                    t                        f                     flexible   \n",
       "1                    t                        f                     moderate   \n",
       "2                    f                        f                     moderate   \n",
       "3                    f                        f                     flexible   \n",
       "4                    f                        f                     flexible   \n",
       "...                ...                      ...                          ...   \n",
       "33533                f                        f  strict_14_with_grace_period   \n",
       "33534                f                        f  strict_14_with_grace_period   \n",
       "33535                f                        f                     flexible   \n",
       "33536                f                        f                     moderate   \n",
       "33537                t                        f  strict_14_with_grace_period   \n",
       "\n",
       "      require_guest_profile_picture require_guest_phone_verification  \\\n",
       "0                                 f                                f   \n",
       "1                                 f                                f   \n",
       "2                                 f                                f   \n",
       "3                                 f                                f   \n",
       "4                                 f                                f   \n",
       "...                             ...                              ...   \n",
       "33533                             f                                f   \n",
       "33534                             f                                f   \n",
       "33535                             f                                f   \n",
       "33536                             f                                f   \n",
       "33537                             f                                f   \n",
       "\n",
       "      calculated_host_listings_count  reviews_per_month  \n",
       "0                                  1               0.59  \n",
       "1                                  3               2.47  \n",
       "2                                  1               0.89  \n",
       "3                                  1                NaN  \n",
       "4                                  1               3.14  \n",
       "...                              ...                ...  \n",
       "33533                              1               0.44  \n",
       "33534                              1               2.28  \n",
       "33535                              1                NaN  \n",
       "33536                              3               0.10  \n",
       "33537                              1               2.76  \n",
       "\n",
       "[33538 rows x 65 columns]"
      ]
     },
     "execution_count": 2,
     "metadata": {},
     "output_type": "execute_result"
    }
   ],
   "source": [
    "df"
   ]
  },
  {
   "cell_type": "code",
   "execution_count": 3,
   "metadata": {},
   "outputs": [
    {
     "name": "stdout",
     "output_type": "stream",
     "text": [
      "<class 'pandas.core.frame.DataFrame'>\n",
      "RangeIndex: 33538 entries, 0 to 33537\n",
      "Data columns (total 65 columns):\n",
      " #   Column                            Non-Null Count  Dtype  \n",
      "---  ------                            --------------  -----  \n",
      " 0   id                                33538 non-null  int64  \n",
      " 1   name                              33526 non-null  object \n",
      " 2   summary                           32266 non-null  object \n",
      " 3   space                             23038 non-null  object \n",
      " 4   description                       33230 non-null  object \n",
      " 5   experiences_offered               33538 non-null  object \n",
      " 6   neighborhood_overview             19948 non-null  object \n",
      " 7   notes                             13447 non-null  object \n",
      " 8   transit                           20796 non-null  object \n",
      " 9   access                            19304 non-null  object \n",
      " 10  interaction                       18670 non-null  object \n",
      " 11  house_rules                       19983 non-null  object \n",
      " 12  host_id                           33538 non-null  int64  \n",
      " 13  host_name                         33533 non-null  object \n",
      " 14  host_since                        33533 non-null  object \n",
      " 15  host_location                     33424 non-null  object \n",
      " 16  host_about                        20374 non-null  object \n",
      " 17  host_response_time                17345 non-null  object \n",
      " 18  host_response_rate                17345 non-null  object \n",
      " 19  host_acceptance_rate              0 non-null      float64\n",
      " 20  host_is_superhost                 33533 non-null  object \n",
      " 21  host_neighbourhood                28832 non-null  object \n",
      " 22  host_listings_count               33533 non-null  float64\n",
      " 23  host_verifications                33538 non-null  object \n",
      " 24  host_has_profile_pic              33533 non-null  object \n",
      " 25  host_identity_verified            33533 non-null  object \n",
      " 26  neighbourhood_cleansed            33538 non-null  object \n",
      " 27  neighbourhood_group_cleansed      33538 non-null  object \n",
      " 28  city                              33499 non-null  object \n",
      " 29  state                             33528 non-null  object \n",
      " 30  zipcode                           33053 non-null  object \n",
      " 31  market                            33448 non-null  object \n",
      " 32  country_code                      33538 non-null  object \n",
      " 33  country                           33538 non-null  object \n",
      " 34  property_type                     33538 non-null  object \n",
      " 35  room_type                         33538 non-null  object \n",
      " 36  accommodates                      33538 non-null  int64  \n",
      " 37  bathrooms                         33478 non-null  float64\n",
      " 38  bedrooms                          33505 non-null  float64\n",
      " 39  beds                              33507 non-null  float64\n",
      " 40  bed_type                          33538 non-null  object \n",
      " 41  amenities                         33538 non-null  object \n",
      " 42  square_feet                       341 non-null    float64\n",
      " 43  price                             33538 non-null  float64\n",
      " 44  guests_included                   33538 non-null  int64  \n",
      " 45  extra_people                      33538 non-null  object \n",
      " 46  minimum_nights                    33538 non-null  int64  \n",
      " 47  maximum_nights                    33538 non-null  int64  \n",
      " 48  number_of_reviews                 33538 non-null  int64  \n",
      " 49  first_review                      26591 non-null  object \n",
      " 50  last_review                       26593 non-null  object \n",
      " 51  review_scores_rating              25874 non-null  float64\n",
      " 52  review_scores_accuracy            25844 non-null  float64\n",
      " 53  review_scores_cleanliness         25859 non-null  float64\n",
      " 54  review_scores_checkin             25829 non-null  float64\n",
      " 55  review_scores_communication       25849 non-null  float64\n",
      " 56  review_scores_location            25830 non-null  float64\n",
      " 57  review_scores_value               25827 non-null  float64\n",
      " 58  instant_bookable                  33538 non-null  object \n",
      " 59  is_business_travel_ready          33538 non-null  object \n",
      " 60  cancellation_policy               33538 non-null  object \n",
      " 61  require_guest_profile_picture     33538 non-null  object \n",
      " 62  require_guest_phone_verification  33538 non-null  object \n",
      " 63  calculated_host_listings_count    33538 non-null  int64  \n",
      " 64  reviews_per_month                 26591 non-null  float64\n",
      "dtypes: float64(15), int64(8), object(42)\n",
      "memory usage: 16.6+ MB\n"
     ]
    }
   ],
   "source": [
    "df.info()"
   ]
  },
  {
   "cell_type": "code",
   "execution_count": 12,
   "metadata": {},
   "outputs": [
    {
     "name": "stdout",
     "output_type": "stream",
     "text": [
      "5\n"
     ]
    }
   ],
   "source": [
    "from math import isnan\n",
    "\n",
    "def to_float(s):\n",
    "    try:\n",
    "        ret = float(s)\n",
    "    except:\n",
    "        ret = -1\n",
    "    if isnan(ret):\n",
    "        ret = -1\n",
    "    return ret\n",
    "\n",
    "def to_int(s):\n",
    "    try:\n",
    "        ret = int(s)\n",
    "    except:\n",
    "        ret = -1\n",
    "    return ret\n",
    "\n",
    "categories = [x for x in list(set(df['neighbourhood_group_cleansed'])) if type(x) is str]\n",
    "print(len(categories))\n",
    "\n",
    "def create_feature(row):\n",
    "    guest_num = to_int(row.guests_included)\n",
    "    guest_cap = to_int(row.extra_people)\n",
    "    bedrooms = to_int(row.bedrooms)\n",
    "    bathrooms = to_int(row.bathrooms)\n",
    "    review = to_float(row.review_scores_rating)\n",
    "    one_hot = [int(row.neighbourhood_group_cleansed == category) for category in categories]\n",
    "    \n",
    "    return [guest_num, guest_cap, bedrooms, bathrooms, review] + one_hot\n",
    "\n",
    "train_X, train_y = [], []\n",
    "for (idx, row) in df.iterrows():\n",
    "    price = float(row.price)\n",
    "    feature = create_feature(row)\n",
    "\n",
    "    train_X.append(feature)\n",
    "    train_y.append(price)"
   ]
  },
  {
   "cell_type": "code",
   "execution_count": 4,
   "metadata": {},
   "outputs": [
    {
     "data": {
      "text/plain": [
       "RandomForestRegressor()"
      ]
     },
     "execution_count": 4,
     "metadata": {},
     "output_type": "execute_result"
    }
   ],
   "source": [
    "from sklearn.ensemble import RandomForestRegressor\n",
    "rnd_forest = RandomForestRegressor()\n",
    "rnd_forest.fit(train_X, train_y)"
   ]
  },
  {
   "cell_type": "code",
   "execution_count": 7,
   "metadata": {},
   "outputs": [],
   "source": [
    "test_ids, test_X = [], []\n",
    "for (idx, row) in test_df.iterrows():\n",
    "    feature = create_feature(row)\n",
    "    test_ids.append(row.id)\n",
    "    test_X.append(feature)\n",
    "test_y = rnd_forest.predict(test_X)"
   ]
  },
  {
   "cell_type": "code",
   "execution_count": 8,
   "metadata": {},
   "outputs": [],
   "source": [
    "output_df = pd.DataFrame()\n",
    "output_df['Id'] = test_ids\n",
    "output_df['Predicted'] = test_y\n",
    "output_df.to_csv('random_forest_baseline.csv', index = False)"
   ]
  },
  {
   "cell_type": "code",
   "execution_count": 9,
   "metadata": {},
   "outputs": [
    {
     "data": {
      "text/plain": [
       "SVR()"
      ]
     },
     "execution_count": 9,
     "metadata": {},
     "output_type": "execute_result"
    }
   ],
   "source": [
    "from sklearn.svm import SVR\n",
    "svr = SVR()\n",
    "svr.fit(train_X, train_y)"
   ]
  },
  {
   "cell_type": "code",
   "execution_count": 12,
   "metadata": {},
   "outputs": [],
   "source": [
    "test_ids, test_X = [], []\n",
    "for (idx, row) in test_df.iterrows():\n",
    "    feature = create_feature(row)\n",
    "    test_ids.append(row.id)\n",
    "    test_X.append(feature)\n",
    "test_y = svr.predict(test_X)"
   ]
  },
  {
   "cell_type": "code",
   "execution_count": 13,
   "metadata": {},
   "outputs": [],
   "source": [
    "output_df = pd.DataFrame()\n",
    "output_df['Id'] = test_ids\n",
    "output_df['Predicted'] = test_y\n",
    "output_df.to_csv('SVR_baseline.csv', index = False)"
   ]
  },
  {
   "cell_type": "code",
   "execution_count": 15,
   "metadata": {},
   "outputs": [
    {
     "data": {
      "text/plain": [
       "PCA(n_components=0.95)"
      ]
     },
     "execution_count": 15,
     "metadata": {},
     "output_type": "execute_result"
    }
   ],
   "source": [
    "from sklearn.decomposition import PCA\n",
    "pca = PCA(0.95)\n",
    "pca.fit(train_X)"
   ]
  },
  {
   "cell_type": "code",
   "execution_count": 24,
   "metadata": {},
   "outputs": [],
   "source": [
    "from sklearn.model_selection import StratifiedKFold, cross_val_score, GridSearchCV, RandomizedSearchCV\n",
    "from scipy.stats import uniform, truncnorm\n",
    "import numpy as np\n",
    "# Number of trees in random forest\n",
    "n_estimators = [int(x) for x in np.linspace(40, 1000, num = 20)]\n",
    "# Number of features to consider at every split\n",
    "max_features = ['auto','sqrt']\n",
    "# Maximum number of levels in tree\n",
    "max_depth = [int(x) for x in np.linspace(10, 110, num = 11)]\n",
    "max_depth.append(None)\n",
    "# Minimum number of samples required to split a node\n",
    "min_samples_split = [2, 5, 10]\n",
    "# Minimum number of samples required at each leaf node\n",
    "min_samples_leaf = [1, 2, 4]\n",
    "# Method of selecting samples for training each tree\n",
    "bootstrap = [True, False]\n",
    "random_grid = {'n_estimators': n_estimators,\n",
    "               'max_features': max_features,\n",
    "               'max_depth': max_depth,\n",
    "               'min_samples_split': min_samples_split,\n",
    "               'min_samples_leaf': min_samples_leaf,\n",
    "               'bootstrap': bootstrap}"
   ]
  },
  {
   "cell_type": "code",
   "execution_count": 19,
   "metadata": {},
   "outputs": [
    {
     "name": "stdout",
     "output_type": "stream",
     "text": [
      "Fitting 3 folds for each of 50 candidates, totalling 150 fits\n"
     ]
    },
    {
     "name": "stderr",
     "output_type": "stream",
     "text": [
      "[Parallel(n_jobs=-1)]: Using backend LokyBackend with 4 concurrent workers.\n",
      "[Parallel(n_jobs=-1)]: Done  33 tasks      | elapsed:  2.1min\n",
      "[Parallel(n_jobs=-1)]: Done 150 out of 150 | elapsed: 10.4min finished\n"
     ]
    },
    {
     "data": {
      "text/plain": [
       "{'n_estimators': 444,\n",
       " 'min_samples_split': 10,\n",
       " 'min_samples_leaf': 1,\n",
       " 'max_features': 'sqrt',\n",
       " 'max_depth': 10,\n",
       " 'bootstrap': False}"
      ]
     },
     "execution_count": 19,
     "metadata": {},
     "output_type": "execute_result"
    }
   ],
   "source": [
    "reg = RandomizedSearchCV(estimator = rnd_forest, param_distributions = random_grid, n_iter = 50, cv = 3, verbose = 2, random_state = 16, n_jobs = -1)\n",
    "model = reg.fit(train_X, train_y)\n",
    "# print winning set of hyperparameters\n",
    "model.best_params_"
   ]
  },
  {
   "cell_type": "code",
   "execution_count": 21,
   "metadata": {},
   "outputs": [
    {
     "data": {
      "text/plain": [
       "RandomForestRegressor(bootstrap=False, max_depth=10, max_features='sqrt',\n",
       "                      min_samples_split=10, n_estimators=444)"
      ]
     },
     "execution_count": 21,
     "metadata": {},
     "output_type": "execute_result"
    }
   ],
   "source": [
    "opt_rnd_reg = RandomForestRegressor(n_estimators= 444,min_samples_split=10, min_samples_leaf=1,\n",
    "                                     max_features= 'sqrt', max_depth= 10, bootstrap=False )\n",
    "opt_rnd_reg.fit(train_X, train_y)"
   ]
  },
  {
   "cell_type": "code",
   "execution_count": 25,
   "metadata": {},
   "outputs": [],
   "source": [
    "test_ids, test_X = [], []\n",
    "for (idx, row) in test_df.iterrows():\n",
    "    feature = create_feature(row)\n",
    "    test_ids.append(row.id)\n",
    "    test_X.append(feature)\n",
    "test_y = opt_rnd_reg.predict(test_X)"
   ]
  },
  {
   "cell_type": "code",
   "execution_count": 26,
   "metadata": {},
   "outputs": [],
   "source": [
    "output_df = pd.DataFrame()\n",
    "output_df['Id'] = test_ids\n",
    "output_df['Predicted'] = test_y\n",
    "output_df.to_csv('opt_random_forest_baseline.csv', index = False)"
   ]
  },
  {
   "cell_type": "code",
   "execution_count": 29,
   "metadata": {},
   "outputs": [
    {
     "data": {
      "text/plain": [
       "Ridge()"
      ]
     },
     "execution_count": 29,
     "metadata": {},
     "output_type": "execute_result"
    }
   ],
   "source": [
    "from sklearn.linear_model import Ridge\n",
    "rid = Ridge()\n",
    "rid.fit(train_X, train_y)"
   ]
  },
  {
   "cell_type": "code",
   "execution_count": 30,
   "metadata": {},
   "outputs": [],
   "source": [
    "test_ids, test_X = [], []\n",
    "for (idx, row) in test_df.iterrows():\n",
    "    feature = create_feature(row)\n",
    "    test_ids.append(row.id)\n",
    "    test_X.append(feature)\n",
    "test_y = rid.predict(test_X)"
   ]
  },
  {
   "cell_type": "code",
   "execution_count": 31,
   "metadata": {},
   "outputs": [],
   "source": [
    "output_df = pd.DataFrame()\n",
    "output_df['Id'] = test_ids\n",
    "output_df['Predicted'] = test_y\n",
    "output_df.to_csv('ridge.csv', index = False)"
   ]
  },
  {
   "cell_type": "code",
   "execution_count": 36,
   "metadata": {},
   "outputs": [],
   "source": [
    "from sklearn.preprocessing import PolynomialFeatures\n",
    "poly = PolynomialFeatures()"
   ]
  },
  {
   "cell_type": "code",
   "execution_count": 13,
   "metadata": {},
   "outputs": [],
   "source": [
    "categories = [x for x in list(set(df['neighbourhood_group_cleansed'])) if type(x) is str]\n",
    "inst_bookable = [x for x in list(set(df['instant_bookable'])) if type(x) is str]\n",
    "\n",
    "def create_feature_2(row):\n",
    "    guest_num = to_int(row.guests_included)\n",
    "    guest_cap = to_int(row.extra_people)\n",
    "    bedrooms = to_int(row.bedrooms)\n",
    "    bathrooms = to_int(row.bathrooms)\n",
    "    minimum_nights = to_int(row.minimum_nights)\n",
    "    number_of_reviews = to_int(row.number_of_reviews)\n",
    "    reviews_per_month = to_int(row.reviews_per_month)\n",
    "    review = to_float(row.review_scores_rating)\n",
    "    one_hot = [int(row.neighbourhood_group_cleansed == category) for category in categories]\n",
    "    one_hot_2 = [int(row.instant_bookable == s) for s in inst_bookable]\n",
    "    return [guest_num, guest_cap, bedrooms, bathrooms, review, number_of_reviews, minimum_nights, reviews_per_month] + one_hot + one_hot_2\n",
    "\n",
    "train_X, train_y = [], []\n",
    "for (idx, row) in df.iterrows():\n",
    "    price = float(row.price)\n",
    "    feature = create_feature_2(row)\n",
    "\n",
    "    train_X.append(feature)\n",
    "    train_y.append(price)"
   ]
  },
  {
   "cell_type": "code",
   "execution_count": 70,
   "metadata": {},
   "outputs": [
    {
     "data": {
      "text/plain": [
       "RandomForestRegressor(bootstrap=False, max_depth=10, max_features='sqrt',\n",
       "                      min_samples_split=10, n_estimators=444)"
      ]
     },
     "execution_count": 70,
     "metadata": {},
     "output_type": "execute_result"
    }
   ],
   "source": [
    "opt_rnd_reg.fit(train_X, train_y)"
   ]
  },
  {
   "cell_type": "code",
   "execution_count": 71,
   "metadata": {},
   "outputs": [],
   "source": [
    "test_ids, test_X = [], []\n",
    "for (idx, row) in test_df.iterrows():\n",
    "    feature = create_feature_2(row)\n",
    "    test_ids.append(row.id)\n",
    "    test_X.append(feature)\n",
    "test_y = opt_rnd_reg.predict(test_X)"
   ]
  },
  {
   "cell_type": "code",
   "execution_count": 72,
   "metadata": {},
   "outputs": [],
   "source": [
    "output_df = pd.DataFrame()\n",
    "output_df['Id'] = test_ids\n",
    "output_df['Predicted'] = test_y\n",
    "output_df.to_csv('opt_random_forest_2_baseline.csv', index = False)"
   ]
  },
  {
   "cell_type": "code",
   "execution_count": 4,
   "metadata": {},
   "outputs": [
    {
     "name": "stdout",
     "output_type": "stream",
     "text": [
      "Collecting xgboost\n",
      "  Downloading xgboost-1.7.4-py3-none-macosx_10_15_x86_64.macosx_11_0_x86_64.macosx_12_0_x86_64.whl (1.8 MB)\n",
      "\u001b[K     |████████████████████████████████| 1.8 MB 180 kB/s eta 0:00:01\n",
      "\u001b[?25hRequirement already satisfied: scipy in /Users/federicoungarelli/opt/anaconda3/lib/python3.8/site-packages (from xgboost) (1.5.2)\n",
      "Requirement already satisfied: numpy in /Users/federicoungarelli/opt/anaconda3/lib/python3.8/site-packages (from xgboost) (1.19.2)\n",
      "Installing collected packages: xgboost\n",
      "Successfully installed xgboost-1.7.4\n",
      "Note: you may need to restart the kernel to use updated packages.\n"
     ]
    }
   ],
   "source": [
    "pip install xgboost"
   ]
  },
  {
   "cell_type": "code",
   "execution_count": 22,
   "metadata": {},
   "outputs": [],
   "source": [
    "from xgboost import XGBRegressor\n",
    "model = XGBRegressor()"
   ]
  },
  {
   "cell_type": "code",
   "execution_count": 25,
   "metadata": {},
   "outputs": [],
   "source": [
    "# Define the search space\n",
    "param_grid = { \n",
    "    # Percentage of columns to be randomly samples for each tree.\n",
    "    \"colsample_bytree\": [ 0.3, 0.5 , 0.8 ],\n",
    "    # reg_alpha provides l1 regularization to the weight, higher values result in more conservative models\n",
    "    \"reg_alpha\": [0, 0.5, 1, 5],\n",
    "    # reg_lambda provides l2 regularization to the weight, higher values result in more conservative models\n",
    "    \"reg_lambda\": [0, 0.5, 1, 5]\n",
    "    }\n",
    "# Set up score\n",
    "scoring = ['recall']\n",
    "# Set up the k-fold cross-validation\n",
    "kfold = StratifiedKFold(n_splits=3, shuffle=True, random_state=0)"
   ]
  },
  {
   "cell_type": "code",
   "execution_count": 31,
   "metadata": {},
   "outputs": [
    {
     "name": "stderr",
     "output_type": "stream",
     "text": [
      "/Users/federicoungarelli/opt/anaconda3/lib/python3.8/site-packages/sklearn/model_selection/_split.py:670: UserWarning: The least populated class in y has only 1 members, which is less than n_splits=3.\n",
      "  warnings.warn((\"The least populated class in y has only %d\"\n"
     ]
    },
    {
     "ename": "AttributeError",
     "evalue": "'GridSearchCV' object has no attribute 'best_parameters'",
     "output_type": "error",
     "traceback": [
      "\u001b[0;31m---------------------------------------------------------------------------\u001b[0m",
      "\u001b[0;31mAttributeError\u001b[0m                            Traceback (most recent call last)",
      "\u001b[0;32m<ipython-input-31-466beb239e62>\u001b[0m in \u001b[0;36m<module>\u001b[0;34m\u001b[0m\n\u001b[1;32m      8\u001b[0m \u001b[0mgrid_result\u001b[0m \u001b[0;34m=\u001b[0m \u001b[0mgrid_search\u001b[0m\u001b[0;34m.\u001b[0m\u001b[0mfit\u001b[0m\u001b[0;34m(\u001b[0m\u001b[0mtrain_X\u001b[0m\u001b[0;34m,\u001b[0m \u001b[0mtrain_y\u001b[0m\u001b[0;34m)\u001b[0m\u001b[0;34m\u001b[0m\u001b[0;34m\u001b[0m\u001b[0m\n\u001b[1;32m      9\u001b[0m \u001b[0;31m# Print grid search summary\u001b[0m\u001b[0;34m\u001b[0m\u001b[0;34m\u001b[0m\u001b[0;34m\u001b[0m\u001b[0m\n\u001b[0;32m---> 10\u001b[0;31m \u001b[0mgrid_result\u001b[0m\u001b[0;34m.\u001b[0m\u001b[0mbest_parameters\u001b[0m\u001b[0;34m\u001b[0m\u001b[0;34m\u001b[0m\u001b[0m\n\u001b[0m",
      "\u001b[0;31mAttributeError\u001b[0m: 'GridSearchCV' object has no attribute 'best_parameters'"
     ]
    }
   ],
   "source": [
    "grid_search = GridSearchCV(estimator=model, \n",
    "                           param_grid=param_grid, \n",
    "                           scoring= 'neg_mean_squared_error',  \n",
    "                           n_jobs=-1, \n",
    "                           cv=kfold, \n",
    "                           verbose=0)\n",
    "# Fit grid search\n",
    "grid_result = grid_search.fit(train_X, train_y)\n",
    "# Print grid search summary\n",
    "grid_result.best_parameters"
   ]
  },
  {
   "cell_type": "code",
   "execution_count": 32,
   "metadata": {},
   "outputs": [
    {
     "data": {
      "text/plain": [
       "{'colsample_bytree': 0.5, 'reg_alpha': 5, 'reg_lambda': 5}"
      ]
     },
     "execution_count": 32,
     "metadata": {},
     "output_type": "execute_result"
    }
   ],
   "source": [
    "grid_result.best_params_"
   ]
  },
  {
   "cell_type": "code",
   "execution_count": 36,
   "metadata": {},
   "outputs": [
    {
     "data": {
      "text/plain": [
       "XGBRegressor(base_score=None, booster=None, callbacks=None,\n",
       "             colsample_bylevel=None, colsample_bynode=None,\n",
       "             colsample_bytree=0.5, early_stopping_rounds=None,\n",
       "             enable_categorical=False, eval_metric=None, feature_types=None,\n",
       "             gamma=None, gpu_id=None, grow_policy=None, importance_type=None,\n",
       "             interaction_constraints=None, learning_rate=None, max_bin=None,\n",
       "             max_cat_threshold=None, max_cat_to_onehot=None,\n",
       "             max_delta_step=None, max_depth=None, max_leaves=None,\n",
       "             min_child_weight=None, missing=nan, monotone_constraints=None,\n",
       "             n_estimators=100, n_jobs=None, num_parallel_tree=None,\n",
       "             predictor=None, random_state=None, ...)"
      ]
     },
     "execution_count": 36,
     "metadata": {},
     "output_type": "execute_result"
    }
   ],
   "source": [
    "opt_xgb = XGBRegressor(colsample_bytree = 0.5, reg_alpha= 5, reg_lambda= 5)\n",
    "opt_xgb.fit(train_X, train_y)"
   ]
  },
  {
   "cell_type": "code",
   "execution_count": 39,
   "metadata": {},
   "outputs": [],
   "source": [
    "test_ids, test_X = [], []\n",
    "for (idx, row) in test_df.iterrows():\n",
    "    feature = create_feature_2(row)\n",
    "    test_ids.append(row.id)\n",
    "    test_X.append(feature)\n",
    "test_y = opt_xgb.predict(test_X)"
   ]
  },
  {
   "cell_type": "code",
   "execution_count": 40,
   "metadata": {},
   "outputs": [],
   "source": [
    "output_df = pd.DataFrame()\n",
    "output_df['Id'] = test_ids\n",
    "output_df['Predicted'] = test_y\n",
    "output_df.to_csv('xgboost_2_baseline.csv', index = False)"
   ]
  },
  {
   "cell_type": "code",
   "execution_count": 28,
   "metadata": {},
   "outputs": [
    {
     "ename": "NameError",
     "evalue": "name 'sklearn' is not defined",
     "output_type": "error",
     "traceback": [
      "\u001b[0;31m---------------------------------------------------------------------------\u001b[0m",
      "\u001b[0;31mNameError\u001b[0m                                 Traceback (most recent call last)",
      "\u001b[0;32m<ipython-input-28-821a98fe6346>\u001b[0m in \u001b[0;36m<module>\u001b[0;34m\u001b[0m\n\u001b[0;32m----> 1\u001b[0;31m \u001b[0msklearn\u001b[0m\u001b[0;34m.\u001b[0m\u001b[0mmetrics\u001b[0m\u001b[0;34m.\u001b[0m\u001b[0mSCORERS\u001b[0m\u001b[0;34m.\u001b[0m\u001b[0mkeys\u001b[0m\u001b[0;34m(\u001b[0m\u001b[0;34m)\u001b[0m\u001b[0;34m\u001b[0m\u001b[0;34m\u001b[0m\u001b[0m\n\u001b[0m",
      "\u001b[0;31mNameError\u001b[0m: name 'sklearn' is not defined"
     ]
    }
   ],
   "source": []
  },
  {
   "cell_type": "code",
   "execution_count": null,
   "metadata": {},
   "outputs": [],
   "source": []
  },
  {
   "cell_type": "code",
   "execution_count": 1,
   "metadata": {},
   "outputs": [
    {
     "ename": "OSError",
     "evalue": "dlopen(/Users/federicoungarelli/opt/anaconda3/lib/python3.8/site-packages/lightgbm/lib_lightgbm.so, 6): Library not loaded: /usr/local/opt/libomp/lib/libomp.dylib\n  Referenced from: /Users/federicoungarelli/opt/anaconda3/lib/python3.8/site-packages/lightgbm/lib_lightgbm.so\n  Reason: image not found",
     "output_type": "error",
     "traceback": [
      "\u001b[0;31m---------------------------------------------------------------------------\u001b[0m",
      "\u001b[0;31mOSError\u001b[0m                                   Traceback (most recent call last)",
      "\u001b[0;32m<ipython-input-1-297cb21e2d77>\u001b[0m in \u001b[0;36m<module>\u001b[0;34m\u001b[0m\n\u001b[0;32m----> 1\u001b[0;31m \u001b[0;32mimport\u001b[0m \u001b[0mlightgbm\u001b[0m \u001b[0;32mas\u001b[0m \u001b[0mltb\u001b[0m\u001b[0;34m\u001b[0m\u001b[0;34m\u001b[0m\u001b[0m\n\u001b[0m\u001b[1;32m      2\u001b[0m \u001b[0mlgb_model\u001b[0m \u001b[0;34m=\u001b[0m \u001b[0mltb\u001b[0m\u001b[0;34m.\u001b[0m\u001b[0mLGBMRegressor\u001b[0m\u001b[0;34m(\u001b[0m\u001b[0;34m)\u001b[0m\u001b[0;34m\u001b[0m\u001b[0;34m\u001b[0m\u001b[0m\n\u001b[1;32m      3\u001b[0m \u001b[0;34m\u001b[0m\u001b[0m\n\u001b[1;32m      4\u001b[0m params = {'learning_rate': uniform(0, 1),\n\u001b[1;32m      5\u001b[0m           \u001b[0;34m'n_estimators'\u001b[0m\u001b[0;34m:\u001b[0m \u001b[0msp_randint\u001b[0m\u001b[0;34m(\u001b[0m\u001b[0;36m200\u001b[0m\u001b[0;34m,\u001b[0m \u001b[0;36m1500\u001b[0m\u001b[0;34m)\u001b[0m\u001b[0;34m,\u001b[0m\u001b[0;34m\u001b[0m\u001b[0;34m\u001b[0m\u001b[0m\n",
      "\u001b[0;32m~/opt/anaconda3/lib/python3.8/site-packages/lightgbm/__init__.py\u001b[0m in \u001b[0;36m<module>\u001b[0;34m\u001b[0m\n\u001b[1;32m      6\u001b[0m \u001b[0;32mfrom\u001b[0m \u001b[0mpathlib\u001b[0m \u001b[0;32mimport\u001b[0m \u001b[0mPath\u001b[0m\u001b[0;34m\u001b[0m\u001b[0;34m\u001b[0m\u001b[0m\n\u001b[1;32m      7\u001b[0m \u001b[0;34m\u001b[0m\u001b[0m\n\u001b[0;32m----> 8\u001b[0;31m \u001b[0;32mfrom\u001b[0m \u001b[0;34m.\u001b[0m\u001b[0mbasic\u001b[0m \u001b[0;32mimport\u001b[0m \u001b[0mBooster\u001b[0m\u001b[0;34m,\u001b[0m \u001b[0mDataset\u001b[0m\u001b[0;34m,\u001b[0m \u001b[0mSequence\u001b[0m\u001b[0;34m,\u001b[0m \u001b[0mregister_logger\u001b[0m\u001b[0;34m\u001b[0m\u001b[0;34m\u001b[0m\u001b[0m\n\u001b[0m\u001b[1;32m      9\u001b[0m \u001b[0;32mfrom\u001b[0m \u001b[0;34m.\u001b[0m\u001b[0mcallback\u001b[0m \u001b[0;32mimport\u001b[0m \u001b[0mearly_stopping\u001b[0m\u001b[0;34m,\u001b[0m \u001b[0mlog_evaluation\u001b[0m\u001b[0;34m,\u001b[0m \u001b[0mprint_evaluation\u001b[0m\u001b[0;34m,\u001b[0m \u001b[0mrecord_evaluation\u001b[0m\u001b[0;34m,\u001b[0m \u001b[0mreset_parameter\u001b[0m\u001b[0;34m\u001b[0m\u001b[0;34m\u001b[0m\u001b[0m\n\u001b[1;32m     10\u001b[0m \u001b[0;32mfrom\u001b[0m \u001b[0;34m.\u001b[0m\u001b[0mengine\u001b[0m \u001b[0;32mimport\u001b[0m \u001b[0mCVBooster\u001b[0m\u001b[0;34m,\u001b[0m \u001b[0mcv\u001b[0m\u001b[0;34m,\u001b[0m \u001b[0mtrain\u001b[0m\u001b[0;34m\u001b[0m\u001b[0;34m\u001b[0m\u001b[0m\n",
      "\u001b[0;32m~/opt/anaconda3/lib/python3.8/site-packages/lightgbm/basic.py\u001b[0m in \u001b[0;36m<module>\u001b[0;34m\u001b[0m\n\u001b[1;32m    108\u001b[0m \u001b[0;34m\u001b[0m\u001b[0m\n\u001b[1;32m    109\u001b[0m \u001b[0;34m\u001b[0m\u001b[0m\n\u001b[0;32m--> 110\u001b[0;31m \u001b[0m_LIB\u001b[0m \u001b[0;34m=\u001b[0m \u001b[0m_load_lib\u001b[0m\u001b[0;34m(\u001b[0m\u001b[0;34m)\u001b[0m\u001b[0;34m\u001b[0m\u001b[0;34m\u001b[0m\u001b[0m\n\u001b[0m\u001b[1;32m    111\u001b[0m \u001b[0;34m\u001b[0m\u001b[0m\n\u001b[1;32m    112\u001b[0m \u001b[0;34m\u001b[0m\u001b[0m\n",
      "\u001b[0;32m~/opt/anaconda3/lib/python3.8/site-packages/lightgbm/basic.py\u001b[0m in \u001b[0;36m_load_lib\u001b[0;34m()\u001b[0m\n\u001b[1;32m     99\u001b[0m     \u001b[0;32mif\u001b[0m \u001b[0mlen\u001b[0m\u001b[0;34m(\u001b[0m\u001b[0mlib_path\u001b[0m\u001b[0;34m)\u001b[0m \u001b[0;34m==\u001b[0m \u001b[0;36m0\u001b[0m\u001b[0;34m:\u001b[0m\u001b[0;34m\u001b[0m\u001b[0;34m\u001b[0m\u001b[0m\n\u001b[1;32m    100\u001b[0m         \u001b[0;32mreturn\u001b[0m \u001b[0;32mNone\u001b[0m\u001b[0;34m\u001b[0m\u001b[0;34m\u001b[0m\u001b[0m\n\u001b[0;32m--> 101\u001b[0;31m     \u001b[0mlib\u001b[0m \u001b[0;34m=\u001b[0m \u001b[0mctypes\u001b[0m\u001b[0;34m.\u001b[0m\u001b[0mcdll\u001b[0m\u001b[0;34m.\u001b[0m\u001b[0mLoadLibrary\u001b[0m\u001b[0;34m(\u001b[0m\u001b[0mlib_path\u001b[0m\u001b[0;34m[\u001b[0m\u001b[0;36m0\u001b[0m\u001b[0;34m]\u001b[0m\u001b[0;34m)\u001b[0m\u001b[0;34m\u001b[0m\u001b[0;34m\u001b[0m\u001b[0m\n\u001b[0m\u001b[1;32m    102\u001b[0m     \u001b[0mlib\u001b[0m\u001b[0;34m.\u001b[0m\u001b[0mLGBM_GetLastError\u001b[0m\u001b[0;34m.\u001b[0m\u001b[0mrestype\u001b[0m \u001b[0;34m=\u001b[0m \u001b[0mctypes\u001b[0m\u001b[0;34m.\u001b[0m\u001b[0mc_char_p\u001b[0m\u001b[0;34m\u001b[0m\u001b[0;34m\u001b[0m\u001b[0m\n\u001b[1;32m    103\u001b[0m     \u001b[0mcallback\u001b[0m \u001b[0;34m=\u001b[0m \u001b[0mctypes\u001b[0m\u001b[0;34m.\u001b[0m\u001b[0mCFUNCTYPE\u001b[0m\u001b[0;34m(\u001b[0m\u001b[0;32mNone\u001b[0m\u001b[0;34m,\u001b[0m \u001b[0mctypes\u001b[0m\u001b[0;34m.\u001b[0m\u001b[0mc_char_p\u001b[0m\u001b[0;34m)\u001b[0m\u001b[0;34m\u001b[0m\u001b[0;34m\u001b[0m\u001b[0m\n",
      "\u001b[0;32m~/opt/anaconda3/lib/python3.8/ctypes/__init__.py\u001b[0m in \u001b[0;36mLoadLibrary\u001b[0;34m(self, name)\u001b[0m\n\u001b[1;32m    457\u001b[0m \u001b[0;34m\u001b[0m\u001b[0m\n\u001b[1;32m    458\u001b[0m     \u001b[0;32mdef\u001b[0m \u001b[0mLoadLibrary\u001b[0m\u001b[0;34m(\u001b[0m\u001b[0mself\u001b[0m\u001b[0;34m,\u001b[0m \u001b[0mname\u001b[0m\u001b[0;34m)\u001b[0m\u001b[0;34m:\u001b[0m\u001b[0;34m\u001b[0m\u001b[0;34m\u001b[0m\u001b[0m\n\u001b[0;32m--> 459\u001b[0;31m         \u001b[0;32mreturn\u001b[0m \u001b[0mself\u001b[0m\u001b[0;34m.\u001b[0m\u001b[0m_dlltype\u001b[0m\u001b[0;34m(\u001b[0m\u001b[0mname\u001b[0m\u001b[0;34m)\u001b[0m\u001b[0;34m\u001b[0m\u001b[0;34m\u001b[0m\u001b[0m\n\u001b[0m\u001b[1;32m    460\u001b[0m \u001b[0;34m\u001b[0m\u001b[0m\n\u001b[1;32m    461\u001b[0m \u001b[0mcdll\u001b[0m \u001b[0;34m=\u001b[0m \u001b[0mLibraryLoader\u001b[0m\u001b[0;34m(\u001b[0m\u001b[0mCDLL\u001b[0m\u001b[0;34m)\u001b[0m\u001b[0;34m\u001b[0m\u001b[0;34m\u001b[0m\u001b[0m\n",
      "\u001b[0;32m~/opt/anaconda3/lib/python3.8/ctypes/__init__.py\u001b[0m in \u001b[0;36m__init__\u001b[0;34m(self, name, mode, handle, use_errno, use_last_error, winmode)\u001b[0m\n\u001b[1;32m    379\u001b[0m \u001b[0;34m\u001b[0m\u001b[0m\n\u001b[1;32m    380\u001b[0m         \u001b[0;32mif\u001b[0m \u001b[0mhandle\u001b[0m \u001b[0;32mis\u001b[0m \u001b[0;32mNone\u001b[0m\u001b[0;34m:\u001b[0m\u001b[0;34m\u001b[0m\u001b[0;34m\u001b[0m\u001b[0m\n\u001b[0;32m--> 381\u001b[0;31m             \u001b[0mself\u001b[0m\u001b[0;34m.\u001b[0m\u001b[0m_handle\u001b[0m \u001b[0;34m=\u001b[0m \u001b[0m_dlopen\u001b[0m\u001b[0;34m(\u001b[0m\u001b[0mself\u001b[0m\u001b[0;34m.\u001b[0m\u001b[0m_name\u001b[0m\u001b[0;34m,\u001b[0m \u001b[0mmode\u001b[0m\u001b[0;34m)\u001b[0m\u001b[0;34m\u001b[0m\u001b[0;34m\u001b[0m\u001b[0m\n\u001b[0m\u001b[1;32m    382\u001b[0m         \u001b[0;32melse\u001b[0m\u001b[0;34m:\u001b[0m\u001b[0;34m\u001b[0m\u001b[0;34m\u001b[0m\u001b[0m\n\u001b[1;32m    383\u001b[0m             \u001b[0mself\u001b[0m\u001b[0;34m.\u001b[0m\u001b[0m_handle\u001b[0m \u001b[0;34m=\u001b[0m \u001b[0mhandle\u001b[0m\u001b[0;34m\u001b[0m\u001b[0;34m\u001b[0m\u001b[0m\n",
      "\u001b[0;31mOSError\u001b[0m: dlopen(/Users/federicoungarelli/opt/anaconda3/lib/python3.8/site-packages/lightgbm/lib_lightgbm.so, 6): Library not loaded: /usr/local/opt/libomp/lib/libomp.dylib\n  Referenced from: /Users/federicoungarelli/opt/anaconda3/lib/python3.8/site-packages/lightgbm/lib_lightgbm.so\n  Reason: image not found"
     ]
    }
   ],
   "source": [
    "import lightgbm as ltb\n",
    "lgb_model = ltb.LGBMRegressor()\n",
    "\n",
    "params = {'learning_rate': uniform(0, 1),\n",
    "          'n_estimators': sp_randint(200, 1500),\n",
    "          'num_leaves': sp_randint(20, 200),\n",
    "          'max_depth': sp_randint(2, 15),\n",
    "          'min_child_weight': uniform(0, 2),\n",
    "          'colsample_bytree': uniform(0, 1),\n",
    "         }\n",
    "lgb_random = RandomizedSearchCV(lgb_model, param_distributions=params, n_iter=10, cv=3, random_state=42, \n",
    "                                scoring='neg_root_mean_squared_error', verbose=10, return_train_score=True)\n",
    "lgb_random = lgb_random.fit(X_train, y_train)\n",
    "\n",
    "best_params = lgb_random.best_params_\n",
    "print(best_params)"
   ]
  },
  {
   "cell_type": "code",
   "execution_count": null,
   "metadata": {},
   "outputs": [],
   "source": []
  },
  {
   "cell_type": "code",
   "execution_count": null,
   "metadata": {},
   "outputs": [],
   "source": []
  },
  {
   "cell_type": "code",
   "execution_count": 64,
   "metadata": {},
   "outputs": [],
   "source": [
    "df2 = df.loc[:, ['guests_included',  'extra_people', 'bedrooms', 'bathrooms', 'minimum_nights', 'review_scores_rating', \n",
    "                'neighbourhood_group_cleansed', 'instant_bookable', 'price']]"
   ]
  },
  {
   "cell_type": "code",
   "execution_count": 65,
   "metadata": {},
   "outputs": [],
   "source": [
    "df2 = df2.dropna()"
   ]
  },
  {
   "cell_type": "code",
   "execution_count": 61,
   "metadata": {},
   "outputs": [],
   "source": [
    "train_X, train_y = [], []\n",
    "for (idx, row) in df2.iterrows():\n",
    "    price = float(row.price)\n",
    "    feature = create_feature_2(row)\n",
    "\n",
    "    train_X.append(feature)\n",
    "    train_y.append(price)"
   ]
  },
  {
   "cell_type": "code",
   "execution_count": 62,
   "metadata": {},
   "outputs": [],
   "source": [
    "test_ids, test_X = [], []\n",
    "for (idx, row) in test_df.iterrows():\n",
    "    feature = create_feature_2(row)\n",
    "    test_ids.append(row.id)\n",
    "    test_X.append(feature)\n",
    "test_y = opt_rnd_reg.predict(test_X)"
   ]
  },
  {
   "cell_type": "code",
   "execution_count": 63,
   "metadata": {},
   "outputs": [],
   "source": [
    "output_df = pd.DataFrame()\n",
    "output_df['Id'] = test_ids\n",
    "output_df['Predicted'] = test_y\n",
    "output_df.to_csv('opt_random_forest_3_baseline.csv', index = False)"
   ]
  },
  {
   "cell_type": "code",
   "execution_count": null,
   "metadata": {},
   "outputs": [],
   "source": []
  }
 ],
 "metadata": {
  "kernelspec": {
   "display_name": "Python 3",
   "language": "python",
   "name": "python3"
  },
  "language_info": {
   "codemirror_mode": {
    "name": "ipython",
    "version": 3
   },
   "file_extension": ".py",
   "mimetype": "text/x-python",
   "name": "python",
   "nbconvert_exporter": "python",
   "pygments_lexer": "ipython3",
   "version": "3.8.5"
  }
 },
 "nbformat": 4,
 "nbformat_minor": 4
}
